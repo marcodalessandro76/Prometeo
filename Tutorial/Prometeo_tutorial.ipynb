{
 "cells": [
  {
   "cell_type": "code",
   "execution_count": 1,
   "id": "28eecfa9-c240-4bb0-8a16-fd28e5965e30",
   "metadata": {},
   "outputs": [],
   "source": [
    "# useful to autoreload the module without restarting the kernel\n",
    "%load_ext autoreload\n",
    "%autoreload 2"
   ]
  },
  {
   "cell_type": "code",
   "execution_count": 2,
   "id": "5fd4b1c5-8b70-4339-ab05-57088bd4ee4b",
   "metadata": {
    "scrolled": true
   },
   "outputs": [],
   "source": [
    "from propy import InputGenerator as I"
   ]
  },
  {
   "cell_type": "markdown",
   "id": "51f78166-cdd8-4fdc-93c5-ab7139e9bb81",
   "metadata": {},
   "source": [
    "# Tutorial for the usage of the ProPy interface"
   ]
  },
  {
   "cell_type": "markdown",
   "id": "4c730eff-5dd2-4ebd-9352-2d7bf9afdca6",
   "metadata": {},
   "source": [
    "The ProPy python interface is the main tool to interact with the code. Here we describe the usage of its element."
   ]
  },
  {
   "cell_type": "markdown",
   "id": "3d6da7d6-a7da-498e-95aa-0bc3651038b9",
   "metadata": {},
   "source": [
    "## Generation of the input object"
   ]
  },
  {
   "cell_type": "markdown",
   "id": "f90ef200-c6e1-4924-b313-2d2e3483f82b",
   "metadata": {},
   "source": [
    "The main code make usage of a yaml file to read the relevant parameters needed to perform the simulation.\n",
    "This file is build and managed by the InputGenerator class of ProPy. \n",
    "Inside ProPy the input is an object that inherits from a Python dictionary. "
   ]
  },
  {
   "cell_type": "code",
   "execution_count": 33,
   "id": "6bdcd126-0a23-4403-97f1-9dfbd8c92c41",
   "metadata": {},
   "outputs": [
    {
     "data": {
      "text/plain": [
       "{'iteration': 2000, 'io_step': 100, 'var1': 27}"
      ]
     },
     "execution_count": 33,
     "metadata": {},
     "output_type": "execute_result"
    }
   ],
   "source": [
    "inp = I.InputGenerator(var1=27,iteration=2000) #(var1=27,iteration=2000)\n",
    "inp"
   ]
  },
  {
   "cell_type": "code",
   "execution_count": 34,
   "id": "6c9bb2c9-52dd-43ec-b1db-838a3604b6f0",
   "metadata": {},
   "outputs": [
    {
     "name": "stdout",
     "output_type": "stream",
     "text": [
      "File YAML 'test.yaml' written on disk\n"
     ]
    }
   ],
   "source": [
    "inp.write('test.yaml')"
   ]
  },
  {
   "cell_type": "code",
   "execution_count": 35,
   "id": "cb7d2f36-d846-439c-8dea-2cad675e9bf7",
   "metadata": {},
   "outputs": [
    {
     "data": {
      "text/plain": [
       "{'iteration': 2000, 'io_step': 100, 'filename': 'test.yaml', 'var1': 27}"
      ]
     },
     "execution_count": 35,
     "metadata": {},
     "output_type": "execute_result"
    }
   ],
   "source": [
    "inp = I.InputGenerator(filename='test.yaml')\n",
    "inp"
   ]
  },
  {
   "cell_type": "code",
   "execution_count": 36,
   "id": "fa4ac14b-4dba-405c-ad6e-b3447de9f0ba",
   "metadata": {},
   "outputs": [
    {
     "name": "stdout",
     "output_type": "stream",
     "text": [
      "File YAML 'test2.yaml' written on disk\n"
     ]
    }
   ],
   "source": [
    "inp.write('test2.yaml')"
   ]
  },
  {
   "cell_type": "code",
   "execution_count": null,
   "id": "99b0453c-9ed2-4f08-9cc2-e9a0e2336d16",
   "metadata": {},
   "outputs": [],
   "source": []
  }
 ],
 "metadata": {
  "kernelspec": {
   "display_name": "Python 3 (ipykernel)",
   "language": "python",
   "name": "python3"
  },
  "language_info": {
   "codemirror_mode": {
    "name": "ipython",
    "version": 3
   },
   "file_extension": ".py",
   "mimetype": "text/x-python",
   "name": "python",
   "nbconvert_exporter": "python",
   "pygments_lexer": "ipython3",
   "version": "3.12.3"
  }
 },
 "nbformat": 4,
 "nbformat_minor": 5
}
