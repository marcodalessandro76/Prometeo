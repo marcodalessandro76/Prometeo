{
 "cells": [
  {
   "cell_type": "code",
   "execution_count": 1,
   "id": "28eecfa9-c240-4bb0-8a16-fd28e5965e30",
   "metadata": {},
   "outputs": [],
   "source": [
    "# useful to autoreload the module without restarting the kernel\n",
    "%load_ext autoreload\n",
    "%autoreload 2"
   ]
  },
  {
   "cell_type": "code",
   "execution_count": 3,
   "id": "5fd4b1c5-8b70-4339-ab05-57088bd4ee4b",
   "metadata": {
    "scrolled": true
   },
   "outputs": [],
   "source": [
    "from propy import InputGenerator as I, Utilities as U"
   ]
  },
  {
   "cell_type": "markdown",
   "id": "51f78166-cdd8-4fdc-93c5-ab7139e9bb81",
   "metadata": {},
   "source": [
    "# Tutorial for the usage of the ProPy interface"
   ]
  },
  {
   "cell_type": "markdown",
   "id": "4c730eff-5dd2-4ebd-9352-2d7bf9afdca6",
   "metadata": {},
   "source": [
    "The ProPy python interface is the main tool to interact with the code. Here we describe the usage of its element."
   ]
  },
  {
   "cell_type": "markdown",
   "id": "3d6da7d6-a7da-498e-95aa-0bc3651038b9",
   "metadata": {},
   "source": [
    "## Generation of the input object"
   ]
  },
  {
   "cell_type": "markdown",
   "id": "f90ef200-c6e1-4924-b313-2d2e3483f82b",
   "metadata": {},
   "source": [
    "The main code make usage of a yaml file to read the relevant parameters needed to perform the simulation.\n",
    "This file is build and managed by the InputGenerator class of ProPy. \n",
    "Inside ProPy the input is an object that inherits from a Python dictionary. "
   ]
  },
  {
   "cell_type": "markdown",
   "id": "abee6b08-c2f4-4209-90ae-a4c08f9d2532",
   "metadata": {},
   "source": [
    "An input object can be created with the default parameters as"
   ]
  },
  {
   "cell_type": "code",
   "execution_count": 10,
   "id": "bcc5aa86-f33e-4ab7-90f4-b0661c544818",
   "metadata": {},
   "outputs": [
    {
     "data": {
      "text/plain": [
       "{'iteration': 1000, 'io_step': 100}"
      ]
     },
     "execution_count": 10,
     "metadata": {},
     "output_type": "execute_result"
    }
   ],
   "source": [
    "inp = I.InputGenerator()\n",
    "inp"
   ]
  },
  {
   "cell_type": "markdown",
   "id": "cc2ee5ad-1f63-47bc-b5de-005887a7ff17",
   "metadata": {},
   "source": [
    "Variable values can be modified, and further variable with respect to the one \n",
    "written in the default input dictionary can be added using the keywords arguments, as follows"
   ]
  },
  {
   "cell_type": "code",
   "execution_count": 11,
   "id": "6bdcd126-0a23-4403-97f1-9dfbd8c92c41",
   "metadata": {},
   "outputs": [
    {
     "data": {
      "text/plain": [
       "{'iteration': 2000, 'io_step': 100, 'var1': 27}"
      ]
     },
     "execution_count": 11,
     "metadata": {},
     "output_type": "execute_result"
    }
   ],
   "source": [
    "inp = I.InputGenerator(var1=27,iteration=2000) #(var1=27,iteration=2000)\n",
    "inp"
   ]
  },
  {
   "cell_type": "markdown",
   "id": "a1db28dc-a210-4c80-bd7e-b57720c08de9",
   "metadata": {},
   "source": [
    "The input object can be written as yaml file, the comments of the default variables are automatically\n",
    "added by the InputGenerator class"
   ]
  },
  {
   "cell_type": "code",
   "execution_count": 12,
   "id": "14b34efe-9340-4c12-8dfe-5d072913fe91",
   "metadata": {},
   "outputs": [
    {
     "name": "stdout",
     "output_type": "stream",
     "text": [
      "File YAML 'test1.yaml' written on disk\n"
     ]
    }
   ],
   "source": [
    "inp.write('test1.yaml')"
   ]
  },
  {
   "cell_type": "markdown",
   "id": "23ac022a-e0e8-419c-9556-e7d5a34d320b",
   "metadata": {},
   "source": [
    "Finally, as yaml file can be used to attribute predefined values to the element of the input object"
   ]
  },
  {
   "cell_type": "code",
   "execution_count": 28,
   "id": "cb7d2f36-d846-439c-8dea-2cad675e9bf7",
   "metadata": {},
   "outputs": [
    {
     "data": {
      "text/plain": [
       "{'iteration': 2000, 'io_step': 100, 'var1': 27}"
      ]
     },
     "execution_count": 28,
     "metadata": {},
     "output_type": "execute_result"
    }
   ],
   "source": [
    "inp = I.InputGenerator(filename='test1.yaml')\n",
    "inp"
   ]
  },
  {
   "cell_type": "markdown",
   "id": "282a535f-b261-4ed9-8dc7-67064d0d716e",
   "metadata": {},
   "source": [
    "Note that, if a variable is present in both the filename and the keyword arguments, the latter \n",
    "is used to set the value of the variable in the input dictionary."
   ]
  },
  {
   "cell_type": "code",
   "execution_count": 29,
   "id": "b0a89e8e-679d-4795-9996-1361669df0d9",
   "metadata": {},
   "outputs": [
    {
     "data": {
      "text/plain": [
       "{'iteration': 2000, 'io_step': 200, 'var1': 27}"
      ]
     },
     "execution_count": 29,
     "metadata": {},
     "output_type": "execute_result"
    }
   ],
   "source": [
    "inp = I.InputGenerator(filename='test1.yaml',io_step=200)\n",
    "inp"
   ]
  },
  {
   "cell_type": "code",
   "execution_count": null,
   "id": "4986c4bd-007b-45a6-bf0c-ca12d3cdf8a2",
   "metadata": {},
   "outputs": [],
   "source": []
  },
  {
   "cell_type": "code",
   "execution_count": null,
   "id": "b89e47bd-b564-45c8-9f36-6f7c39cb7ba9",
   "metadata": {},
   "outputs": [],
   "source": []
  },
  {
   "cell_type": "code",
   "execution_count": null,
   "id": "99b0453c-9ed2-4f08-9cc2-e9a0e2336d16",
   "metadata": {},
   "outputs": [],
   "source": []
  }
 ],
 "metadata": {
  "kernelspec": {
   "display_name": "Python 3 (ipykernel)",
   "language": "python",
   "name": "python3"
  },
  "language_info": {
   "codemirror_mode": {
    "name": "ipython",
    "version": 3
   },
   "file_extension": ".py",
   "mimetype": "text/x-python",
   "name": "python",
   "nbconvert_exporter": "python",
   "pygments_lexer": "ipython3",
   "version": "3.12.3"
  }
 },
 "nbformat": 4,
 "nbformat_minor": 5
}
