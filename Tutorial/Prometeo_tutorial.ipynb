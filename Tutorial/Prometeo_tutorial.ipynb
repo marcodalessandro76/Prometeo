{
 "cells": [
  {
   "cell_type": "code",
   "execution_count": 2,
   "id": "28eecfa9-c240-4bb0-8a16-fd28e5965e30",
   "metadata": {},
   "outputs": [],
   "source": [
    "# useful to autoreload the module without restarting the kernel\n",
    "%load_ext autoreload\n",
    "%autoreload 2"
   ]
  },
  {
   "cell_type": "code",
   "execution_count": 4,
   "id": "5fd4b1c5-8b70-4339-ab05-57088bd4ee4b",
   "metadata": {},
   "outputs": [],
   "source": [
    "from  propy import InputGenerator as I"
   ]
  },
  {
   "cell_type": "markdown",
   "id": "51f78166-cdd8-4fdc-93c5-ab7139e9bb81",
   "metadata": {},
   "source": [
    "# Tutorial for the usage of the ProPy interface"
   ]
  },
  {
   "cell_type": "markdown",
   "id": "4c730eff-5dd2-4ebd-9352-2d7bf9afdca6",
   "metadata": {},
   "source": [
    "The ProPy python interface is the main tool to interact with the code. Here we describe the usage of its element."
   ]
  },
  {
   "cell_type": "markdown",
   "id": "3d6da7d6-a7da-498e-95aa-0bc3651038b9",
   "metadata": {},
   "source": [
    "## Generation of the input object"
   ]
  },
  {
   "cell_type": "markdown",
   "id": "f90ef200-c6e1-4924-b313-2d2e3483f82b",
   "metadata": {},
   "source": [
    "The main code make usage of a yaml file to read the relevant parameters needed to perform the simulation.\n",
    "This file is build and managed by the InputGenerator class of ProPy. \n",
    "Inside ProPy the input is an object that inherits from a Python dictionary. "
   ]
  },
  {
   "cell_type": "code",
   "execution_count": 10,
   "id": "6bdcd126-0a23-4403-97f1-9dfbd8c92c41",
   "metadata": {},
   "outputs": [
    {
     "data": {
      "text/plain": [
       "{'iteration': 1000, 'io_step': 100}"
      ]
     },
     "execution_count": 10,
     "metadata": {},
     "output_type": "execute_result"
    }
   ],
   "source": [
    "inp = I.InputGenerator() #(var1=27,iteration=2000)\n",
    "inp"
   ]
  },
  {
   "cell_type": "code",
   "execution_count": 12,
   "id": "6c9bb2c9-52dd-43ec-b1db-838a3604b6f0",
   "metadata": {},
   "outputs": [
    {
     "ename": "TypeError",
     "evalue": "CommentedBase.yaml_set_comment_before_after_key() got an unexpected keyword argument 'inline'",
     "output_type": "error",
     "traceback": [
      "\u001b[1;31m---------------------------------------------------------------------------\u001b[0m",
      "\u001b[1;31mTypeError\u001b[0m                                 Traceback (most recent call last)",
      "Cell \u001b[1;32mIn[12], line 1\u001b[0m\n\u001b[1;32m----> 1\u001b[0m inp\u001b[38;5;241m.\u001b[39mwrite(\u001b[38;5;124m'\u001b[39m\u001b[38;5;124mtest.yaml\u001b[39m\u001b[38;5;124m'\u001b[39m)\n",
      "File \u001b[1;32mc:\\users\\marco\\applications\\prometeo\\propy\\propy\\InputGenerator.py:86\u001b[0m, in \u001b[0;36mInputGenerator.write\u001b[1;34m(self, file)\u001b[0m\n\u001b[0;32m     79\u001b[0m \u001b[38;5;28;01mdef\u001b[39;00m \u001b[38;5;21mwrite\u001b[39m(\u001b[38;5;28mself\u001b[39m, file):\n\u001b[0;32m     80\u001b[0m \u001b[38;5;250m    \u001b[39m\u001b[38;5;124;03m\"\"\"\u001b[39;00m\n\u001b[0;32m     81\u001b[0m \u001b[38;5;124;03m    Write the input object to a YAML file, preserving comments.\u001b[39;00m\n\u001b[0;32m     82\u001b[0m \n\u001b[0;32m     83\u001b[0m \u001b[38;5;124;03m    Args:\u001b[39;00m\n\u001b[0;32m     84\u001b[0m \u001b[38;5;124;03m        file (:py:class:`string`): name of the file including the path\u001b[39;00m\n\u001b[0;32m     85\u001b[0m \u001b[38;5;124;03m    \"\"\"\u001b[39;00m\n\u001b[1;32m---> 86\u001b[0m     yaml_data \u001b[38;5;241m=\u001b[39m create_commented_yaml(\u001b[38;5;28mself\u001b[39m)  \u001b[38;5;66;03m# Ensure comments are added\u001b[39;00m\n\u001b[0;32m     87\u001b[0m     \u001b[38;5;28mprint\u001b[39m(yaml_data)\n\u001b[0;32m     88\u001b[0m     \u001b[38;5;28;01mwith\u001b[39;00m \u001b[38;5;28mopen\u001b[39m(file, \u001b[38;5;124m\"\u001b[39m\u001b[38;5;124mw\u001b[39m\u001b[38;5;124m\"\u001b[39m, encoding\u001b[38;5;241m=\u001b[39m\u001b[38;5;124m\"\u001b[39m\u001b[38;5;124mutf-8\u001b[39m\u001b[38;5;124m\"\u001b[39m) \u001b[38;5;28;01mas\u001b[39;00m f:\n",
      "File \u001b[1;32mc:\\users\\marco\\applications\\prometeo\\propy\\propy\\InputGenerator.py:32\u001b[0m, in \u001b[0;36mcreate_commented_yaml\u001b[1;34m(data)\u001b[0m\n\u001b[0;32m     29\u001b[0m     yaml_data[key] \u001b[38;5;241m=\u001b[39m value\n\u001b[0;32m     31\u001b[0m \u001b[38;5;66;03m# Aggiunta dei commenti\u001b[39;00m\n\u001b[1;32m---> 32\u001b[0m yaml_data\u001b[38;5;241m.\u001b[39myaml_set_comment_before_after_key(\u001b[38;5;124m'\u001b[39m\u001b[38;5;124miteration\u001b[39m\u001b[38;5;124m'\u001b[39m, inline\u001b[38;5;241m=\u001b[39m\u001b[38;5;124m'\u001b[39m\u001b[38;5;124mNumber of iterations of the simulation\u001b[39m\u001b[38;5;124m'\u001b[39m)\n\u001b[0;32m     33\u001b[0m yaml_data\u001b[38;5;241m.\u001b[39myaml_set_comment_before_after_key(\u001b[38;5;124m'\u001b[39m\u001b[38;5;124mio_step\u001b[39m\u001b[38;5;124m'\u001b[39m, inline\u001b[38;5;241m=\u001b[39m\u001b[38;5;124m'\u001b[39m\u001b[38;5;124mNumber of iterations between two I/O operations\u001b[39m\u001b[38;5;124m'\u001b[39m)\n\u001b[0;32m     35\u001b[0m \u001b[38;5;28;01mreturn\u001b[39;00m yaml_data\n",
      "\u001b[1;31mTypeError\u001b[0m: CommentedBase.yaml_set_comment_before_after_key() got an unexpected keyword argument 'inline'"
     ]
    }
   ],
   "source": [
    "inp.write('test.yaml')"
   ]
  },
  {
   "cell_type": "code",
   "execution_count": 14,
   "id": "8a24566b-11cd-4f77-ba23-e28549e304b1",
   "metadata": {},
   "outputs": [],
   "source": [
    "import ruamel.yaml"
   ]
  },
  {
   "cell_type": "code",
   "execution_count": 16,
   "id": "b36f64d4-065f-4cb1-a2c8-6e5925b2cc86",
   "metadata": {},
   "outputs": [
    {
     "name": "stdout",
     "output_type": "stream",
     "text": [
      "0.18.10\n"
     ]
    }
   ],
   "source": [
    "print(ruamel.yaml.__version__)"
   ]
  },
  {
   "cell_type": "code",
   "execution_count": null,
   "id": "cb7d2f36-d846-439c-8dea-2cad675e9bf7",
   "metadata": {},
   "outputs": [],
   "source": []
  },
  {
   "cell_type": "code",
   "execution_count": null,
   "id": "fa4ac14b-4dba-405c-ad6e-b3447de9f0ba",
   "metadata": {},
   "outputs": [],
   "source": []
  }
 ],
 "metadata": {
  "kernelspec": {
   "display_name": "Python [conda env:base] *",
   "language": "python",
   "name": "conda-base-py"
  },
  "language_info": {
   "codemirror_mode": {
    "name": "ipython",
    "version": 3
   },
   "file_extension": ".py",
   "mimetype": "text/x-python",
   "name": "python",
   "nbconvert_exporter": "python",
   "pygments_lexer": "ipython3",
   "version": "3.12.3"
  }
 },
 "nbformat": 4,
 "nbformat_minor": 5
}
