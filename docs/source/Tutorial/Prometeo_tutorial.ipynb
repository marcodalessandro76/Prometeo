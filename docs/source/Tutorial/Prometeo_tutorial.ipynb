{
 "cells": [
  {
   "cell_type": "code",
   "execution_count": 1,
   "id": "28eecfa9-c240-4bb0-8a16-fd28e5965e30",
   "metadata": {},
   "outputs": [],
   "source": [
    "# useful to autoreload the module without restarting the kernel\n",
    "%load_ext autoreload\n",
    "%autoreload 2"
   ]
  },
  {
   "cell_type": "code",
   "execution_count": 2,
   "id": "5fd4b1c5-8b70-4339-ab05-57088bd4ee4b",
   "metadata": {
    "scrolled": true
   },
   "outputs": [],
   "source": [
    "from prometeoPy import InputGenerator as I, Calculator as C, RunRules as R"
   ]
  },
  {
   "cell_type": "markdown",
   "id": "51f78166-cdd8-4fdc-93c5-ab7139e9bb81",
   "metadata": {},
   "source": [
    "# Tutorial for the usage of the Prometeo package"
   ]
  },
  {
   "cell_type": "markdown",
   "id": "be60f9ad-cda0-4105-ab84-48f18fd66941",
   "metadata": {},
   "source": [
    "The PrometeoPy python interface is the main tool to interact with the code. Here we describe the usage of its element."
   ]
  },
  {
   "cell_type": "markdown",
   "id": "3d6da7d6-a7da-498e-95aa-0bc3651038b9",
   "metadata": {},
   "source": [
    "## Generation of the input object"
   ]
  },
  {
   "cell_type": "markdown",
   "id": "f90ef200-c6e1-4924-b313-2d2e3483f82b",
   "metadata": {},
   "source": [
    "The main code make usage of a yaml file to read the relevant parameters needed to perform the simulation.\n",
    "This file is built and managed by the InputGenerator class of prometeoPy. \n",
    "Inside prometeoPy the input is an object that inherits from a Python dictionary. "
   ]
  },
  {
   "cell_type": "markdown",
   "id": "abee6b08-c2f4-4209-90ae-a4c08f9d2532",
   "metadata": {},
   "source": [
    "An input object can be created with the default parameters as"
   ]
  },
  {
   "cell_type": "code",
   "execution_count": 3,
   "id": "bcc5aa86-f33e-4ab7-90f4-b0661c544818",
   "metadata": {},
   "outputs": [
    {
     "data": {
      "text/plain": [
       "{'iteration': 1000, 'io_step': 100}"
      ]
     },
     "execution_count": 3,
     "metadata": {},
     "output_type": "execute_result"
    }
   ],
   "source": [
    "inp = I.InputGenerator()\n",
    "inp"
   ]
  },
  {
   "cell_type": "markdown",
   "id": "cc2ee5ad-1f63-47bc-b5de-005887a7ff17",
   "metadata": {},
   "source": [
    "Variable values can be modified, and further variable with respect to the one \n",
    "written in the default input dictionary can be added using the keywords arguments, as follows"
   ]
  },
  {
   "cell_type": "code",
   "execution_count": 25,
   "id": "6bdcd126-0a23-4403-97f1-9dfbd8c92c41",
   "metadata": {},
   "outputs": [
    {
     "data": {
      "text/plain": [
       "{'iteration': 2000, 'io_step': 100, 'var1': 27}"
      ]
     },
     "execution_count": 25,
     "metadata": {},
     "output_type": "execute_result"
    }
   ],
   "source": [
    "inp = I.InputGenerator(var1=27,iteration=2000)\n",
    "inp"
   ]
  },
  {
   "cell_type": "markdown",
   "id": "a1db28dc-a210-4c80-bd7e-b57720c08de9",
   "metadata": {},
   "source": [
    "The input object can be written as yaml file, the comments of the default variables are automatically\n",
    "added by the InputGenerator class"
   ]
  },
  {
   "cell_type": "code",
   "execution_count": 5,
   "id": "14b34efe-9340-4c12-8dfe-5d072913fe91",
   "metadata": {},
   "outputs": [
    {
     "name": "stdout",
     "output_type": "stream",
     "text": [
      "File YAML 'input.yaml' written on disk\n"
     ]
    }
   ],
   "source": [
    "inp.write('input.yaml')"
   ]
  },
  {
   "cell_type": "markdown",
   "id": "23ac022a-e0e8-419c-9556-e7d5a34d320b",
   "metadata": {},
   "source": [
    "Finally, as yaml file can be used to attribute predefined values to the element of the input object"
   ]
  },
  {
   "cell_type": "code",
   "execution_count": 12,
   "id": "cb7d2f36-d846-439c-8dea-2cad675e9bf7",
   "metadata": {},
   "outputs": [
    {
     "data": {
      "text/plain": [
       "{'iteration': 2000, 'io_step': 100, 'var1': 27}"
      ]
     },
     "execution_count": 12,
     "metadata": {},
     "output_type": "execute_result"
    }
   ],
   "source": [
    "inp2 = I.InputGenerator(filename='input.yaml')\n",
    "inp2"
   ]
  },
  {
   "cell_type": "markdown",
   "id": "282a535f-b261-4ed9-8dc7-67064d0d716e",
   "metadata": {},
   "source": [
    "Note that, if a variable is present in both the filename and the keyword arguments, the latter \n",
    "is used to set the value of the variable in the input dictionary."
   ]
  },
  {
   "cell_type": "code",
   "execution_count": 13,
   "id": "b0a89e8e-679d-4795-9996-1361669df0d9",
   "metadata": {},
   "outputs": [
    {
     "data": {
      "text/plain": [
       "{'iteration': 2000, 'io_step': 200, 'var1': 27}"
      ]
     },
     "execution_count": 13,
     "metadata": {},
     "output_type": "execute_result"
    }
   ],
   "source": [
    "inp3 = I.InputGenerator(filename='input.yaml',io_step=200)\n",
    "inp3"
   ]
  },
  {
   "cell_type": "markdown",
   "id": "6372db71-aead-480a-919b-e1a253b82051",
   "metadata": {},
   "source": [
    "## Run of the main code"
   ]
  },
  {
   "cell_type": "code",
   "execution_count": 30,
   "id": "b89e47bd-b564-45c8-9f36-6f7c39cb7ba9",
   "metadata": {},
   "outputs": [
    {
     "data": {
      "text/plain": [
       "{'scheduler': 'direct', 'omp_num_threads': 4}"
      ]
     },
     "execution_count": 30,
     "metadata": {},
     "output_type": "execute_result"
    }
   ],
   "source": [
    "omp = 4\n",
    "rr = R.RunRules(omp_num_threads=omp)\n",
    "rr"
   ]
  },
  {
   "cell_type": "code",
   "execution_count": 31,
   "id": "99b0453c-9ed2-4f08-9cc2-e9a0e2336d16",
   "metadata": {},
   "outputs": [
    {
     "name": "stdout",
     "output_type": "stream",
     "text": [
      "Initialize a calculator with scheduler direct\n"
     ]
    }
   ],
   "source": [
    "code = C.Calculator(rr)"
   ]
  },
  {
   "cell_type": "code",
   "execution_count": 32,
   "id": "7f08251a-f373-4bf5-9ada-b3ac9db699bc",
   "metadata": {},
   "outputs": [
    {
     "data": {
      "text/plain": [
       "{'scheduler': 'direct',\n",
       " 'omp_num_threads': 4,\n",
       " 'skip': True,\n",
       " 'dry_run': False,\n",
       " 'verbose': True}"
      ]
     },
     "execution_count": 32,
     "metadata": {},
     "output_type": "execute_result"
    }
   ],
   "source": [
    "code.global_options()"
   ]
  },
  {
   "cell_type": "code",
   "execution_count": 35,
   "id": "32218d96-ce5d-4bb1-a4bb-8460194e7175",
   "metadata": {},
   "outputs": [
    {
     "name": "stdout",
     "output_type": "stream",
     "text": [
      "The run_dir folder run_test1 already exists\n",
      "File YAML 'run_test1\\run_test1.yaml' written on disk\n",
      "File YAML 'run_test1\\run_options.yaml' written on disk\n"
     ]
    }
   ],
   "source": [
    "run_dir = 'run_test1'\n",
    "results = code.run(input=inp,run_dir=run_dir,omp_num_threads=2)"
   ]
  },
  {
   "cell_type": "code",
   "execution_count": null,
   "id": "b06da9bf-d830-4ef3-a29a-6e5c01c0ac97",
   "metadata": {},
   "outputs": [],
   "source": []
  },
  {
   "cell_type": "code",
   "execution_count": null,
   "id": "7b76555c-ec36-4cf8-a568-40bd65e57043",
   "metadata": {},
   "outputs": [],
   "source": []
  },
  {
   "cell_type": "code",
   "execution_count": null,
   "id": "54cd8d69-514c-46bf-becd-4cda39d58878",
   "metadata": {},
   "outputs": [],
   "source": []
  },
  {
   "cell_type": "code",
   "execution_count": null,
   "id": "38d0f5da-3798-4d01-a5e8-5cb8abaaff0a",
   "metadata": {},
   "outputs": [],
   "source": []
  },
  {
   "cell_type": "code",
   "execution_count": null,
   "id": "e9047e08-720d-428f-868a-b2700cabebf8",
   "metadata": {},
   "outputs": [],
   "source": []
  },
  {
   "cell_type": "code",
   "execution_count": null,
   "id": "0eeae48d-128c-411f-8c10-4d6db5f0159f",
   "metadata": {},
   "outputs": [],
   "source": [
    "#################################################################"
   ]
  },
  {
   "cell_type": "code",
   "execution_count": 3,
   "id": "b0613d77-5864-4c92-81de-46ccaea69942",
   "metadata": {},
   "outputs": [],
   "source": [
    "from prometeoPy import RunOptions as RO"
   ]
  },
  {
   "cell_type": "code",
   "execution_count": 4,
   "id": "a4d09071-7217-4330-b72b-794c81bef1c3",
   "metadata": {},
   "outputs": [
    {
     "data": {
      "text/plain": [
       "{'iteration': 2000, 'io_step': 100, 'var1': 27}"
      ]
     },
     "execution_count": 4,
     "metadata": {},
     "output_type": "execute_result"
    }
   ],
   "source": [
    "inp = I.InputGenerator(var1=27,iteration=2000)\n",
    "inp"
   ]
  },
  {
   "cell_type": "code",
   "execution_count": 5,
   "id": "fb8305fe-74e0-4497-991a-d81cc26b0b89",
   "metadata": {},
   "outputs": [
    {
     "name": "stdout",
     "output_type": "stream",
     "text": [
      "File YAML 'testInp.yaml' written on disk\n"
     ]
    }
   ],
   "source": [
    "inp.write('testInp.yaml')"
   ]
  },
  {
   "cell_type": "code",
   "execution_count": 6,
   "id": "db0c44fd-30b2-49b1-8aed-9a6bcfef2388",
   "metadata": {},
   "outputs": [
    {
     "data": {
      "text/plain": [
       "{'pippo': 1, 'a': 1, 'b': 27}"
      ]
     },
     "execution_count": 6,
     "metadata": {},
     "output_type": "execute_result"
    }
   ],
   "source": [
    "ro = RO.RunOptions(a=1,b=27)\n",
    "ro"
   ]
  },
  {
   "cell_type": "code",
   "execution_count": 7,
   "id": "9cdc584b-cd19-4145-af05-06e52da89d0f",
   "metadata": {},
   "outputs": [
    {
     "name": "stdout",
     "output_type": "stream",
     "text": [
      "File YAML 'testROwrite.yaml' written on disk\n"
     ]
    }
   ],
   "source": [
    "ro.write('testROwrite.yaml')"
   ]
  },
  {
   "cell_type": "code",
   "execution_count": null,
   "id": "4653f1ea-6ac9-4c6e-b0db-2261f9c1232c",
   "metadata": {},
   "outputs": [],
   "source": []
  },
  {
   "cell_type": "code",
   "execution_count": 8,
   "id": "fbadc144-fc57-4808-a74d-e356b78b428a",
   "metadata": {},
   "outputs": [],
   "source": [
    "from prometeoPy.Utilities import dict_to_yaml_dump"
   ]
  },
  {
   "cell_type": "code",
   "execution_count": 9,
   "id": "465fb9a1-6e2c-469c-a07b-329ec76a9584",
   "metadata": {},
   "outputs": [
    {
     "data": {
      "text/plain": [
       "{'plu': 3, 'cuccu': 'ciccio'}"
      ]
     },
     "execution_count": 9,
     "metadata": {},
     "output_type": "execute_result"
    }
   ],
   "source": [
    "bla = {'plu' : 3, 'cuccu' : 'ciccio'}\n",
    "bla"
   ]
  },
  {
   "cell_type": "code",
   "execution_count": 10,
   "id": "be030e6e-448a-4365-a7c9-3b70541be890",
   "metadata": {},
   "outputs": [
    {
     "name": "stdout",
     "output_type": "stream",
     "text": [
      "File YAML 'dictdump.yaml' written on disk\n"
     ]
    }
   ],
   "source": [
    "dict_to_yaml_dump(bla,'dictdump.yaml')"
   ]
  },
  {
   "cell_type": "code",
   "execution_count": 13,
   "id": "35e39584-0d50-4b58-aa2d-9ae94f9c223b",
   "metadata": {},
   "outputs": [],
   "source": [
    "bla['dict'] = {'a':3,'b':5}"
   ]
  },
  {
   "cell_type": "code",
   "execution_count": 14,
   "id": "f0e4d383-cd2b-44ec-98c1-651636af9b16",
   "metadata": {},
   "outputs": [
    {
     "data": {
      "text/plain": [
       "{'plu': 3, 'cuccu': 'ciccio', 'dict': {'a': 3, 'b': 5}}"
      ]
     },
     "execution_count": 14,
     "metadata": {},
     "output_type": "execute_result"
    }
   ],
   "source": [
    "bla"
   ]
  },
  {
   "cell_type": "code",
   "execution_count": 16,
   "id": "fb949dab-7c0e-4da7-92c4-7f7bb7e3d65c",
   "metadata": {},
   "outputs": [
    {
     "name": "stdout",
     "output_type": "stream",
     "text": [
      "File YAML 'dictdump.yaml' written on disk\n"
     ]
    }
   ],
   "source": [
    "dict_to_yaml_dump(bla,'dictdump.yaml')"
   ]
  },
  {
   "cell_type": "code",
   "execution_count": 19,
   "id": "47401147-e55d-4555-9e28-dc35380b0999",
   "metadata": {},
   "outputs": [
    {
     "data": {
      "text/plain": [
       "{'iteration': 2000, 'io_step': 100, 'var1': 27, 'input': {'a': 3, 'b': 5}}"
      ]
     },
     "execution_count": 19,
     "metadata": {},
     "output_type": "execute_result"
    }
   ],
   "source": [
    "inp = I.InputGenerator(var1=27,iteration=2000)\n",
    "inp['input'] = {'a':3,'b':5}\n",
    "inp"
   ]
  },
  {
   "cell_type": "code",
   "execution_count": 20,
   "id": "918babb4-34a8-488c-a8e9-7dae08d7e074",
   "metadata": {},
   "outputs": [
    {
     "name": "stdout",
     "output_type": "stream",
     "text": [
      "File YAML 'testInp.yaml' written on disk\n"
     ]
    }
   ],
   "source": [
    "inp.write('testInp.yaml')"
   ]
  },
  {
   "cell_type": "code",
   "execution_count": null,
   "id": "0f8cd01a-caba-4c1e-b53c-5b02851161e5",
   "metadata": {},
   "outputs": [],
   "source": []
  },
  {
   "cell_type": "code",
   "execution_count": null,
   "id": "838a32dc-04d1-44a4-8b38-3b648bc0c29f",
   "metadata": {},
   "outputs": [],
   "source": []
  }
 ],
 "metadata": {
  "kernelspec": {
   "display_name": "Python 3 (ipykernel)",
   "language": "python",
   "name": "python3"
  },
  "language_info": {
   "codemirror_mode": {
    "name": "ipython",
    "version": 3
   },
   "file_extension": ".py",
   "mimetype": "text/x-python",
   "name": "python",
   "nbconvert_exporter": "python",
   "pygments_lexer": "ipython3",
   "version": "3.12.9"
  }
 },
 "nbformat": 4,
 "nbformat_minor": 5
}
